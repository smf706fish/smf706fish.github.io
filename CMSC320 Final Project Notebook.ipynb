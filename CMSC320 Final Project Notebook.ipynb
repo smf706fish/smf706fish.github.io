{
 "cells": [
  {
   "cell_type": "markdown",
   "metadata": {},
   "source": [
    "# Analysis of Movie Data 1989 - 2014"
   ]
  },
  {
   "cell_type": "markdown",
   "metadata": {},
   "source": [
    "Final 320 Project\n",
    "Group Members: Mark Bruner, Shane Fisher, Connor Denicola"
   ]
  },
  {
   "cell_type": "markdown",
   "metadata": {},
   "source": [
    "## INTRODUCTION"
   ]
  },
  {
   "cell_type": "markdown",
   "metadata": {},
   "source": [
    "This tutorial aims to provide an introduction to data science by analyzing Movie data over the years 1989 - 2019. The data we will be using is from https://data.world website. To view this dataset in excel use this link https://drive.google.com/file/d/1ITAlhCjppLcpPo7jQzjEz2R1JzyddjCb/view?usp=sharing . This dataset includes 615 movies from 1989 to 2019, which includes Movie Title, MPAA Rating, Budget, Gross Revenue, Release Date, Genre, Runtime, Rating, Rating Count, and Summary of movies. We will be using data from 1989 to 2014 in order to evaluate a relationship between movie rating and other movie specifications such as budget, runtime, etc. This will allow us to accurately predict how good a movie is going to be without watching it. In this tutorial we will be using python, specifically the pandas library, numpy, matplotlib.pyplot, and SciKit-Learn to collect, clean, organize, process, visualize, and analyze the data."
   ]
  },
  {
   "cell_type": "markdown",
   "metadata": {},
   "source": [
    "#### MORE ON THE TECHNOLOGY USED"
   ]
  },
  {
   "cell_type": "markdown",
   "metadata": {},
   "source": [
    "Provided below are links to some of the libraries and technologies we used in this tutorial.  Click on one of the 5 resources to learn a little bit about them!"
   ]
  },
  {
   "cell_type": "markdown",
   "metadata": {},
   "source": [
    "1. [pandas](https://pandas.pydata.org/docs/getting_started/overview.html)\n",
    "2. [matplotlib.pyplot](https://matplotlib.org/3.1.1/tutorials/introductory/pyplot.html)\n",
    "3. [SciKit-Learn](https://scikit-learn.org/stable/getting_started.html)\n",
    "4. [numpy](https://numpy.org/doc/stable/user/quickstart.html)\n",
    "5. [python](https://www.python.org/about/gettingstarted/)"
   ]
  },
  {
   "cell_type": "markdown",
   "metadata": {},
   "source": [
    "## DATA COLLECTION"
   ]
  },
  {
   "cell_type": "markdown",
   "metadata": {},
   "source": [
    "To start off this tutorial we first need to collect the data and store it as a pandas dataframe. The dataset we are using is stored in Excel tables so we are going to read the Excel file using pandas function read_excel(). After doing this we have all the data stored in a pandas dataframe which makes it easy to clean and organize the raw data. Below is our code used to accomplish this along with the dataframe containing the data."
   ]
  },
  {
   "cell_type": "code",
   "execution_count": 1,
   "metadata": {},
   "outputs": [
    {
     "name": "stdout",
     "output_type": "stream",
     "text": [
      "PANDAS DATAFRAME OF RAW DATA\n"
     ]
    },
    {
     "data": {
      "text/html": [
       "<div>\n",
       "<style scoped>\n",
       "    .dataframe tbody tr th:only-of-type {\n",
       "        vertical-align: middle;\n",
       "    }\n",
       "\n",
       "    .dataframe tbody tr th {\n",
       "        vertical-align: top;\n",
       "    }\n",
       "\n",
       "    .dataframe thead th {\n",
       "        text-align: right;\n",
       "    }\n",
       "</style>\n",
       "<table border=\"1\" class=\"dataframe\">\n",
       "  <thead>\n",
       "    <tr style=\"text-align: right;\">\n",
       "      <th></th>\n",
       "      <th>MovieID</th>\n",
       "      <th>Title</th>\n",
       "      <th>MPAA Rating</th>\n",
       "      <th>Budget</th>\n",
       "      <th>Gross</th>\n",
       "      <th>Release Date</th>\n",
       "      <th>Genre</th>\n",
       "      <th>Runtime</th>\n",
       "      <th>Rating</th>\n",
       "      <th>Rating Count</th>\n",
       "      <th>Summary</th>\n",
       "    </tr>\n",
       "  </thead>\n",
       "  <tbody>\n",
       "    <tr>\n",
       "      <th>0</th>\n",
       "      <td>1</td>\n",
       "      <td>Look Who's Talking</td>\n",
       "      <td>PG-13</td>\n",
       "      <td>7500000.0</td>\n",
       "      <td>2.960000e+08</td>\n",
       "      <td>1989-10-12</td>\n",
       "      <td>Romance</td>\n",
       "      <td>93.0</td>\n",
       "      <td>5.9</td>\n",
       "      <td>73638.0</td>\n",
       "      <td>After a single, career-minded woman is left on...</td>\n",
       "    </tr>\n",
       "    <tr>\n",
       "      <th>1</th>\n",
       "      <td>2</td>\n",
       "      <td>Driving Miss Daisy</td>\n",
       "      <td>PG</td>\n",
       "      <td>7500000.0</td>\n",
       "      <td>1.457933e+08</td>\n",
       "      <td>1989-12-13</td>\n",
       "      <td>Comedy</td>\n",
       "      <td>99.0</td>\n",
       "      <td>7.4</td>\n",
       "      <td>91075.0</td>\n",
       "      <td>An old Jewish woman and her African-American c...</td>\n",
       "    </tr>\n",
       "    <tr>\n",
       "      <th>2</th>\n",
       "      <td>3</td>\n",
       "      <td>Turner &amp; Hooch</td>\n",
       "      <td>PG</td>\n",
       "      <td>13000000.0</td>\n",
       "      <td>7.107992e+07</td>\n",
       "      <td>1989-07-28</td>\n",
       "      <td>Crime</td>\n",
       "      <td>100.0</td>\n",
       "      <td>7.2</td>\n",
       "      <td>91415.0</td>\n",
       "      <td>Det. Scott Turner (Tom Hanks) is an uptight, b...</td>\n",
       "    </tr>\n",
       "    <tr>\n",
       "      <th>3</th>\n",
       "      <td>4</td>\n",
       "      <td>Born on the Fourth of July</td>\n",
       "      <td>R</td>\n",
       "      <td>14000000.0</td>\n",
       "      <td>1.610017e+08</td>\n",
       "      <td>1989-12-20</td>\n",
       "      <td>War</td>\n",
       "      <td>145.0</td>\n",
       "      <td>7.2</td>\n",
       "      <td>91415.0</td>\n",
       "      <td>The biography of Ron Kovic. Paralyzed in the V...</td>\n",
       "    </tr>\n",
       "    <tr>\n",
       "      <th>4</th>\n",
       "      <td>5</td>\n",
       "      <td>Field of Dreams</td>\n",
       "      <td>PG</td>\n",
       "      <td>15000000.0</td>\n",
       "      <td>8.443162e+07</td>\n",
       "      <td>1989-04-21</td>\n",
       "      <td>Drama</td>\n",
       "      <td>107.0</td>\n",
       "      <td>7.5</td>\n",
       "      <td>101702.0</td>\n",
       "      <td>An Iowa corn farmer, hearing voices, interpret...</td>\n",
       "    </tr>\n",
       "    <tr>\n",
       "      <th>...</th>\n",
       "      <td>...</td>\n",
       "      <td>...</td>\n",
       "      <td>...</td>\n",
       "      <td>...</td>\n",
       "      <td>...</td>\n",
       "      <td>...</td>\n",
       "      <td>...</td>\n",
       "      <td>...</td>\n",
       "      <td>...</td>\n",
       "      <td>...</td>\n",
       "      <td>...</td>\n",
       "    </tr>\n",
       "    <tr>\n",
       "      <th>611</th>\n",
       "      <td>612</td>\n",
       "      <td>Toy Story 4</td>\n",
       "      <td>G</td>\n",
       "      <td>200000000.0</td>\n",
       "      <td>1.062000e+09</td>\n",
       "      <td>2019-06-11</td>\n",
       "      <td>Animation</td>\n",
       "      <td>100.0</td>\n",
       "      <td>NaN</td>\n",
       "      <td>NaN</td>\n",
       "      <td>NaN</td>\n",
       "    </tr>\n",
       "    <tr>\n",
       "      <th>612</th>\n",
       "      <td>613</td>\n",
       "      <td>Fast &amp; Furious Presents: Hobbs &amp; Shaw</td>\n",
       "      <td>PG-13</td>\n",
       "      <td>200000000.0</td>\n",
       "      <td>7.594000e+08</td>\n",
       "      <td>2019-07-13</td>\n",
       "      <td>Thriller</td>\n",
       "      <td>136.0</td>\n",
       "      <td>NaN</td>\n",
       "      <td>NaN</td>\n",
       "      <td>NaN</td>\n",
       "    </tr>\n",
       "    <tr>\n",
       "      <th>613</th>\n",
       "      <td>614</td>\n",
       "      <td>The Lion King</td>\n",
       "      <td>PG</td>\n",
       "      <td>250000000.0</td>\n",
       "      <td>1.632000e+09</td>\n",
       "      <td>2019-07-09</td>\n",
       "      <td>Drama</td>\n",
       "      <td>118.0</td>\n",
       "      <td>NaN</td>\n",
       "      <td>NaN</td>\n",
       "      <td>NaN</td>\n",
       "    </tr>\n",
       "    <tr>\n",
       "      <th>614</th>\n",
       "      <td>615</td>\n",
       "      <td>Avengers: Endgame</td>\n",
       "      <td>PG-13</td>\n",
       "      <td>356000000.0</td>\n",
       "      <td>2.796000e+09</td>\n",
       "      <td>2019-04-22</td>\n",
       "      <td>Action</td>\n",
       "      <td>181.0</td>\n",
       "      <td>NaN</td>\n",
       "      <td>NaN</td>\n",
       "      <td>NaN</td>\n",
       "    </tr>\n",
       "    <tr>\n",
       "      <th>615</th>\n",
       "      <td>0</td>\n",
       "      <td>NaN</td>\n",
       "      <td>NaN</td>\n",
       "      <td>NaN</td>\n",
       "      <td>NaN</td>\n",
       "      <td>NaT</td>\n",
       "      <td>NaN</td>\n",
       "      <td>NaN</td>\n",
       "      <td>NaN</td>\n",
       "      <td>NaN</td>\n",
       "      <td>NaN</td>\n",
       "    </tr>\n",
       "  </tbody>\n",
       "</table>\n",
       "<p>616 rows × 11 columns</p>\n",
       "</div>"
      ],
      "text/plain": [
       "     MovieID                                  Title MPAA Rating       Budget  \\\n",
       "0          1                     Look Who's Talking       PG-13    7500000.0   \n",
       "1          2                     Driving Miss Daisy          PG    7500000.0   \n",
       "2          3                         Turner & Hooch          PG   13000000.0   \n",
       "3          4             Born on the Fourth of July           R   14000000.0   \n",
       "4          5                        Field of Dreams          PG   15000000.0   \n",
       "..       ...                                    ...         ...          ...   \n",
       "611      612                            Toy Story 4           G  200000000.0   \n",
       "612      613  Fast & Furious Presents: Hobbs & Shaw       PG-13  200000000.0   \n",
       "613      614                          The Lion King          PG  250000000.0   \n",
       "614      615                      Avengers: Endgame       PG-13  356000000.0   \n",
       "615        0                                    NaN         NaN          NaN   \n",
       "\n",
       "            Gross Release Date      Genre  Runtime  Rating  Rating Count  \\\n",
       "0    2.960000e+08   1989-10-12    Romance     93.0     5.9       73638.0   \n",
       "1    1.457933e+08   1989-12-13     Comedy     99.0     7.4       91075.0   \n",
       "2    7.107992e+07   1989-07-28      Crime    100.0     7.2       91415.0   \n",
       "3    1.610017e+08   1989-12-20        War    145.0     7.2       91415.0   \n",
       "4    8.443162e+07   1989-04-21      Drama    107.0     7.5      101702.0   \n",
       "..            ...          ...        ...      ...     ...           ...   \n",
       "611  1.062000e+09   2019-06-11  Animation    100.0     NaN           NaN   \n",
       "612  7.594000e+08   2019-07-13   Thriller    136.0     NaN           NaN   \n",
       "613  1.632000e+09   2019-07-09      Drama    118.0     NaN           NaN   \n",
       "614  2.796000e+09   2019-04-22     Action    181.0     NaN           NaN   \n",
       "615           NaN          NaT        NaN      NaN     NaN           NaN   \n",
       "\n",
       "                                               Summary  \n",
       "0    After a single, career-minded woman is left on...  \n",
       "1    An old Jewish woman and her African-American c...  \n",
       "2    Det. Scott Turner (Tom Hanks) is an uptight, b...  \n",
       "3    The biography of Ron Kovic. Paralyzed in the V...  \n",
       "4    An Iowa corn farmer, hearing voices, interpret...  \n",
       "..                                                 ...  \n",
       "611                                                NaN  \n",
       "612                                                NaN  \n",
       "613                                                NaN  \n",
       "614                                                NaN  \n",
       "615                                                NaN  \n",
       "\n",
       "[616 rows x 11 columns]"
      ]
     },
     "execution_count": 1,
     "metadata": {},
     "output_type": "execute_result"
    }
   ],
   "source": [
    "#import pandas library \n",
    "import pandas as pd\n",
    "\n",
    "#read in the Excel file and store as pandas Dataframe\n",
    "df = pd.read_excel('https://query.data.world/s/sqbj5q3qxof63cg5eehdtqyxjujorf')\n",
    "\n",
    "#print the first 15 rows of Dataframe to get an idea of \n",
    "#what the Dataframe looks like\n",
    "print(\"PANDAS DATAFRAME OF RAW DATA\")\n",
    "df"
   ]
  },
  {
   "cell_type": "markdown",
   "metadata": {},
   "source": [
    "## DATA PROCESSING"
   ]
  },
  {
   "cell_type": "markdown",
   "metadata": {},
   "source": [
    "After collecting all the raw data, we need to clean it up because right now it is a little messy. We are going to organize the data so that it only contains columns and rows that we want to look at and so that it is easier to read/visualize. To do this we are going to execute four data processing steps. First step is to drop any rows with missing data. The second step is to get rid of the summary column. The third step is to create a \"Profit\" column based on the movie's budget and gross revenue. The fourth step is to adjust the budget, gross, and revenue columns for inflation."
   ]
  },
  {
   "cell_type": "markdown",
   "metadata": {},
   "source": [
    "#### DROP ROWS WITH MISSING DATA"
   ]
  },
  {
   "cell_type": "markdown",
   "metadata": {},
   "source": [
    "The purpose of this is so we are not dealing with rows that have missing information in certain columns. We only want to look at the rows that have the complete data we need."
   ]
  },
  {
   "cell_type": "code",
   "execution_count": 2,
   "metadata": {},
   "outputs": [],
   "source": [
    "# Dropping all rows that have missing data\n",
    "df.dropna(inplace = True)"
   ]
  },
  {
   "cell_type": "markdown",
   "metadata": {},
   "source": [
    "#### DROP THE \"SUMMARY\" COLUMN"
   ]
  },
  {
   "cell_type": "markdown",
   "metadata": {},
   "source": [
    "The purpose of this is because we are not going to use the summary data so we are going to get rid of it so the Dataframe is cleaner"
   ]
  },
  {
   "cell_type": "code",
   "execution_count": 3,
   "metadata": {},
   "outputs": [],
   "source": [
    "#Drop the Summary column \n",
    "newColumns = ['MovieID', 'Title', 'MPAA Rating', 'Budget', 'Gross', 'Release Date', 'Genre',\\\n",
    "                                                          'Runtime', 'Rating', 'Rating Count']"
   ]
  },
  {
   "cell_type": "markdown",
   "metadata": {},
   "source": [
    "#### CREATE A \"PROFIT\" COLUMN"
   ]
  },
  {
   "cell_type": "markdown",
   "metadata": {},
   "source": [
    "The purpose of this is because we want to know how much money a movie had made. So we are going to take the \"Gross\" column and subtract the \"Budget\" column in order to create a column that shows how much money a movie made."
   ]
  },
  {
   "cell_type": "code",
   "execution_count": 4,
   "metadata": {},
   "outputs": [],
   "source": [
    "#Subtract the Budget from the Gross to get profit\n",
    "profit = (df['Gross'] - df['Budget'])\n",
    "\n",
    "#Create column \"Profit\" in Dataframe\n",
    "df['Profit'] = profit\n",
    "\n",
    "#Now put the new \"Profit\" column after the \"Gross\" column for organization purposes\n",
    "newColumns = ['MovieID', 'Title', 'MPAA Rating', 'Budget', 'Gross', 'Profit', 'Release Date',\\\n",
    "                                                  'Genre', 'Runtime', 'Rating', 'Rating Count']\n",
    "\n",
    "#Adjust our Dataframe to include our new changes\n",
    "df = df.reindex(columns = newColumns)"
   ]
  },
  {
   "cell_type": "markdown",
   "metadata": {},
   "source": [
    "#### ADJUST MONEY COLUMNS FOR INFLATION"
   ]
  },
  {
   "cell_type": "markdown",
   "metadata": {},
   "source": [
    "The purpose of this is so that we can compare all the monetary values on the same scale. This dataset includes movies from 1989 so we need to make sure all the monetary values are adjusted for inflation. We are going to go through the monetary values of each year and adjust them for inflation based on the year 2014."
   ]
  },
  {
   "cell_type": "code",
   "execution_count": 5,
   "metadata": {},
   "outputs": [],
   "source": [
    "#Change the \"Release Date\" column to only be the year value\n",
    "#and rename it to \"ReleaseYear\"\n",
    "years = df['Release Date'].astype(str).str[0:4]\n",
    "df['Release Date'] = years\n",
    "df = df.rename(columns = {'Release Date': 'ReleaseYear'})\n",
    "\n",
    "#Here we are going to multiply the Budget, Gross, and Profit columns from each year\n",
    "#by the inflation rate from that year to 2014 so all years are on the same scale.\n",
    "counter = 0\n",
    "for row in df.itertuples():\n",
    "    date = row.ReleaseYear\n",
    "    if date == \"1989\":\n",
    "        df.iat[counter, 3] = df.iat[counter, 3] * 1.91\n",
    "        df.iat[counter, 4] = df.iat[counter, 4] * 1.91\n",
    "        df.iat[counter, 5] = df.iat[counter, 5] * 1.91\n",
    "    if date == \"1990\":\n",
    "        df.iat[counter, 3] = df.iat[counter, 3] * 1.81\n",
    "        df.iat[counter, 4] = df.iat[counter, 4] * 1.81\n",
    "        df.iat[counter, 5] = df.iat[counter, 5] * 1.81\n",
    "    if date == \"1991\":\n",
    "        df.iat[counter, 3] = df.iat[counter, 3] * 1.74\n",
    "        df.iat[counter, 4] = df.iat[counter, 4] * 1.74\n",
    "        df.iat[counter, 5] = df.iat[counter, 5] * 1.74\n",
    "    if date == \"1992\":\n",
    "        df.iat[counter, 3] = df.iat[counter, 3] * 1.69\n",
    "        df.iat[counter, 4] = df.iat[counter, 4] * 1.69\n",
    "        df.iat[counter, 5] = df.iat[counter, 5] * 1.69\n",
    "    if date == \"1993\":\n",
    "        df.iat[counter, 3] = df.iat[counter, 3] * 1.64\n",
    "        df.iat[counter, 4] = df.iat[counter, 4] * 1.64\n",
    "        df.iat[counter, 5] = df.iat[counter, 5] * 1.64\n",
    "    if date == \"1994\":\n",
    "        df.iat[counter, 3] = df.iat[counter, 3] * 1.60\n",
    "        df.iat[counter, 4] = df.iat[counter, 4] * 1.60\n",
    "        df.iat[counter, 5] = df.iat[counter, 5] * 1.60\n",
    "    if date == \"1995\":\n",
    "        df.iat[counter, 3] = df.iat[counter, 3] * 1.55\n",
    "        df.iat[counter, 4] = df.iat[counter, 4] * 1.55\n",
    "        df.iat[counter, 5] = df.iat[counter, 5] * 1.55\n",
    "    if date == \"1996\":\n",
    "        df.iat[counter, 3] = df.iat[counter, 3] * 1.51\n",
    "        df.iat[counter, 4] = df.iat[counter, 4] * 1.51\n",
    "        df.iat[counter, 5] = df.iat[counter, 5] * 1.51\n",
    "    if date == \"1997\":\n",
    "        df.iat[counter, 3] = df.iat[counter, 3] * 1.47\n",
    "        df.iat[counter, 4] = df.iat[counter, 4] * 1.47\n",
    "        df.iat[counter, 5] = df.iat[counter, 5] * 1.47\n",
    "    if date == \"1998\":\n",
    "        df.iat[counter, 3] = df.iat[counter, 3] * 1.45\n",
    "        df.iat[counter, 4] = df.iat[counter, 4] * 1.45\n",
    "        df.iat[counter, 5] = df.iat[counter, 5] * 1.45\n",
    "    if date == \"1999\":\n",
    "        df.iat[counter, 3] = df.iat[counter, 3] * 1.42\n",
    "        df.iat[counter, 4] = df.iat[counter, 4] * 1.42\n",
    "        df.iat[counter, 5] = df.iat[counter, 5] * 1.42\n",
    "    if date == \"2000\":\n",
    "        df.iat[counter, 3] = df.iat[counter, 3] * 1.37\n",
    "        df.iat[counter, 4] = df.iat[counter, 4] * 1.37\n",
    "        df.iat[counter, 5] = df.iat[counter, 5] * 1.37\n",
    "    if date == \"2001\":\n",
    "        df.iat[counter, 3] = df.iat[counter, 3] * 1.34\n",
    "        df.iat[counter, 4] = df.iat[counter, 4] * 1.34\n",
    "        df.iat[counter, 5] = df.iat[counter, 5] * 1.34\n",
    "    if date == \"2002\":\n",
    "        df.iat[counter, 3] = df.iat[counter, 3] * 1.32\n",
    "        df.iat[counter, 4] = df.iat[counter, 4] * 1.32\n",
    "        df.iat[counter, 5] = df.iat[counter, 5] * 1.32\n",
    "    if date == \"2003\":\n",
    "        df.iat[counter, 3] = df.iat[counter, 3] * 1.29\n",
    "        df.iat[counter, 4] = df.iat[counter, 4] * 1.29\n",
    "        df.iat[counter, 5] = df.iat[counter, 5] * 1.29\n",
    "    if date == \"2004\":\n",
    "        df.iat[counter, 3] = df.iat[counter, 3] * 1.25\n",
    "        df.iat[counter, 4] = df.iat[counter, 4] * 1.25\n",
    "        df.iat[counter, 5] = df.iat[counter, 5] * 1.25\n",
    "    if date == \"2005\":\n",
    "        df.iat[counter, 3] = df.iat[counter, 3] * 1.21\n",
    "        df.iat[counter, 4] = df.iat[counter, 4] * 1.21\n",
    "        df.iat[counter, 5] = df.iat[counter, 5] * 1.21\n",
    "    if date == \"2006\":\n",
    "        df.iat[counter, 3] = df.iat[counter, 3] * 1.17\n",
    "        df.iat[counter, 4] = df.iat[counter, 4] * 1.17\n",
    "        df.iat[counter, 5] = df.iat[counter, 5] * 1.17\n",
    "    if date == \"2007\":\n",
    "        df.iat[counter, 3] = df.iat[counter, 3] * 1.14\n",
    "        df.iat[counter, 4] = df.iat[counter, 4] * 1.14\n",
    "        df.iat[counter, 5] = df.iat[counter, 5] * 1.14\n",
    "    if date == \"2008\":\n",
    "        df.iat[counter, 3] = df.iat[counter, 3] * 1.10\n",
    "        df.iat[counter, 4] = df.iat[counter, 4] * 1.10\n",
    "        df.iat[counter, 5] = df.iat[counter, 5] * 1.10\n",
    "    if date == \"2009\":\n",
    "        df.iat[counter, 3] = df.iat[counter, 3] * 1.10\n",
    "        df.iat[counter, 4] = df.iat[counter, 4] * 1.10\n",
    "        df.iat[counter, 5] = df.iat[counter, 5] * 1.10\n",
    "    if date == \"2010\":\n",
    "        df.iat[counter, 3] = df.iat[counter, 3] * 1.09\n",
    "        df.iat[counter, 4] = df.iat[counter, 4] * 1.09\n",
    "        df.iat[counter, 5] = df.iat[counter, 5] * 1.09\n",
    "    if date == \"2011\":\n",
    "        df.iat[counter, 3] = df.iat[counter, 3] * 1.05\n",
    "        df.iat[counter, 4] = df.iat[counter, 4] * 1.05\n",
    "        df.iat[counter, 5] = df.iat[counter, 5] * 1.05\n",
    "    if date == \"2012\":\n",
    "        df.iat[counter, 3] = df.iat[counter, 3] * 1.03\n",
    "        df.iat[counter, 4] = df.iat[counter, 4] * 1.03\n",
    "        df.iat[counter, 5] = df.iat[counter, 5] * 1.03\n",
    "    if date == \"2013\":\n",
    "        df.iat[counter, 3] = df.iat[counter, 3] * 1.02\n",
    "        df.iat[counter, 4] = df.iat[counter, 4] * 1.02\n",
    "        df.iat[counter, 5] = df.iat[counter, 5] * 1.02\n",
    "    counter = counter + 1"
   ]
  },
  {
   "cell_type": "markdown",
   "metadata": {},
   "source": [
    "Now that we are all done with our Data Processing we can take a look at the finished product. Here is the new updated Dataframe that has no rows with missing values, no \"Summary\" column, a \"Profit\" column, and updated values for Budget, Gross, and Profit based on inflation for the value of the dollar in 2014."
   ]
  },
  {
   "cell_type": "code",
   "execution_count": 6,
   "metadata": {},
   "outputs": [
    {
     "name": "stdout",
     "output_type": "stream",
     "text": [
      "CLEANED UP DATAFRAME\n"
     ]
    },
    {
     "data": {
      "text/html": [
       "<div>\n",
       "<style scoped>\n",
       "    .dataframe tbody tr th:only-of-type {\n",
       "        vertical-align: middle;\n",
       "    }\n",
       "\n",
       "    .dataframe tbody tr th {\n",
       "        vertical-align: top;\n",
       "    }\n",
       "\n",
       "    .dataframe thead th {\n",
       "        text-align: right;\n",
       "    }\n",
       "</style>\n",
       "<table border=\"1\" class=\"dataframe\">\n",
       "  <thead>\n",
       "    <tr style=\"text-align: right;\">\n",
       "      <th></th>\n",
       "      <th>MovieID</th>\n",
       "      <th>Title</th>\n",
       "      <th>MPAA Rating</th>\n",
       "      <th>Budget</th>\n",
       "      <th>Gross</th>\n",
       "      <th>Profit</th>\n",
       "      <th>ReleaseYear</th>\n",
       "      <th>Genre</th>\n",
       "      <th>Runtime</th>\n",
       "      <th>Rating</th>\n",
       "      <th>Rating Count</th>\n",
       "    </tr>\n",
       "  </thead>\n",
       "  <tbody>\n",
       "    <tr>\n",
       "      <th>0</th>\n",
       "      <td>1</td>\n",
       "      <td>Look Who's Talking</td>\n",
       "      <td>PG-13</td>\n",
       "      <td>14325000.0</td>\n",
       "      <td>5.653600e+08</td>\n",
       "      <td>5.510350e+08</td>\n",
       "      <td>1989</td>\n",
       "      <td>Romance</td>\n",
       "      <td>93.0</td>\n",
       "      <td>5.9</td>\n",
       "      <td>73638.0</td>\n",
       "    </tr>\n",
       "    <tr>\n",
       "      <th>1</th>\n",
       "      <td>2</td>\n",
       "      <td>Driving Miss Daisy</td>\n",
       "      <td>PG</td>\n",
       "      <td>14325000.0</td>\n",
       "      <td>2.784652e+08</td>\n",
       "      <td>2.641402e+08</td>\n",
       "      <td>1989</td>\n",
       "      <td>Comedy</td>\n",
       "      <td>99.0</td>\n",
       "      <td>7.4</td>\n",
       "      <td>91075.0</td>\n",
       "    </tr>\n",
       "    <tr>\n",
       "      <th>2</th>\n",
       "      <td>3</td>\n",
       "      <td>Turner &amp; Hooch</td>\n",
       "      <td>PG</td>\n",
       "      <td>24830000.0</td>\n",
       "      <td>1.357626e+08</td>\n",
       "      <td>1.109326e+08</td>\n",
       "      <td>1989</td>\n",
       "      <td>Crime</td>\n",
       "      <td>100.0</td>\n",
       "      <td>7.2</td>\n",
       "      <td>91415.0</td>\n",
       "    </tr>\n",
       "    <tr>\n",
       "      <th>3</th>\n",
       "      <td>4</td>\n",
       "      <td>Born on the Fourth of July</td>\n",
       "      <td>R</td>\n",
       "      <td>26740000.0</td>\n",
       "      <td>3.075132e+08</td>\n",
       "      <td>2.807732e+08</td>\n",
       "      <td>1989</td>\n",
       "      <td>War</td>\n",
       "      <td>145.0</td>\n",
       "      <td>7.2</td>\n",
       "      <td>91415.0</td>\n",
       "    </tr>\n",
       "    <tr>\n",
       "      <th>4</th>\n",
       "      <td>5</td>\n",
       "      <td>Field of Dreams</td>\n",
       "      <td>PG</td>\n",
       "      <td>28650000.0</td>\n",
       "      <td>1.612644e+08</td>\n",
       "      <td>1.326144e+08</td>\n",
       "      <td>1989</td>\n",
       "      <td>Drama</td>\n",
       "      <td>107.0</td>\n",
       "      <td>7.5</td>\n",
       "      <td>101702.0</td>\n",
       "    </tr>\n",
       "    <tr>\n",
       "      <th>...</th>\n",
       "      <td>...</td>\n",
       "      <td>...</td>\n",
       "      <td>...</td>\n",
       "      <td>...</td>\n",
       "      <td>...</td>\n",
       "      <td>...</td>\n",
       "      <td>...</td>\n",
       "      <td>...</td>\n",
       "      <td>...</td>\n",
       "      <td>...</td>\n",
       "      <td>...</td>\n",
       "    </tr>\n",
       "    <tr>\n",
       "      <th>505</th>\n",
       "      <td>506</td>\n",
       "      <td>Big Hero 6</td>\n",
       "      <td>PG</td>\n",
       "      <td>165000000.0</td>\n",
       "      <td>6.521054e+08</td>\n",
       "      <td>4.871054e+08</td>\n",
       "      <td>2014</td>\n",
       "      <td>Animation</td>\n",
       "      <td>102.0</td>\n",
       "      <td>7.8</td>\n",
       "      <td>380953.0</td>\n",
       "    </tr>\n",
       "    <tr>\n",
       "      <th>506</th>\n",
       "      <td>507</td>\n",
       "      <td>Interstellar</td>\n",
       "      <td>PG-13</td>\n",
       "      <td>165000000.0</td>\n",
       "      <td>6.751200e+08</td>\n",
       "      <td>5.101200e+08</td>\n",
       "      <td>2014</td>\n",
       "      <td>Science Fiction</td>\n",
       "      <td>169.0</td>\n",
       "      <td>8.6</td>\n",
       "      <td>1343549.0</td>\n",
       "    </tr>\n",
       "    <tr>\n",
       "      <th>507</th>\n",
       "      <td>508</td>\n",
       "      <td>Captain America: The Winter Soldier</td>\n",
       "      <td>PG-13</td>\n",
       "      <td>170000000.0</td>\n",
       "      <td>7.147666e+08</td>\n",
       "      <td>5.447666e+08</td>\n",
       "      <td>2014</td>\n",
       "      <td>Action</td>\n",
       "      <td>136.0</td>\n",
       "      <td>7.7</td>\n",
       "      <td>685903.0</td>\n",
       "    </tr>\n",
       "    <tr>\n",
       "      <th>508</th>\n",
       "      <td>509</td>\n",
       "      <td>Dawn of the Planet of the Apes</td>\n",
       "      <td>PG-13</td>\n",
       "      <td>170000000.0</td>\n",
       "      <td>7.106446e+08</td>\n",
       "      <td>5.406446e+08</td>\n",
       "      <td>2014</td>\n",
       "      <td>Science Fiction</td>\n",
       "      <td>130.0</td>\n",
       "      <td>7.6</td>\n",
       "      <td>395425.0</td>\n",
       "    </tr>\n",
       "    <tr>\n",
       "      <th>509</th>\n",
       "      <td>510</td>\n",
       "      <td>Guardians of the Galaxy</td>\n",
       "      <td>PG-13</td>\n",
       "      <td>170000000.0</td>\n",
       "      <td>7.733286e+08</td>\n",
       "      <td>6.033286e+08</td>\n",
       "      <td>2014</td>\n",
       "      <td>Action</td>\n",
       "      <td>121.0</td>\n",
       "      <td>8.0</td>\n",
       "      <td>978222.0</td>\n",
       "    </tr>\n",
       "  </tbody>\n",
       "</table>\n",
       "<p>496 rows × 11 columns</p>\n",
       "</div>"
      ],
      "text/plain": [
       "     MovieID                                Title MPAA Rating       Budget  \\\n",
       "0          1                   Look Who's Talking       PG-13   14325000.0   \n",
       "1          2                   Driving Miss Daisy          PG   14325000.0   \n",
       "2          3                       Turner & Hooch          PG   24830000.0   \n",
       "3          4           Born on the Fourth of July           R   26740000.0   \n",
       "4          5                      Field of Dreams          PG   28650000.0   \n",
       "..       ...                                  ...         ...          ...   \n",
       "505      506                           Big Hero 6          PG  165000000.0   \n",
       "506      507                         Interstellar       PG-13  165000000.0   \n",
       "507      508  Captain America: The Winter Soldier       PG-13  170000000.0   \n",
       "508      509       Dawn of the Planet of the Apes       PG-13  170000000.0   \n",
       "509      510              Guardians of the Galaxy       PG-13  170000000.0   \n",
       "\n",
       "            Gross        Profit ReleaseYear            Genre  Runtime  Rating  \\\n",
       "0    5.653600e+08  5.510350e+08        1989          Romance     93.0     5.9   \n",
       "1    2.784652e+08  2.641402e+08        1989           Comedy     99.0     7.4   \n",
       "2    1.357626e+08  1.109326e+08        1989            Crime    100.0     7.2   \n",
       "3    3.075132e+08  2.807732e+08        1989              War    145.0     7.2   \n",
       "4    1.612644e+08  1.326144e+08        1989            Drama    107.0     7.5   \n",
       "..            ...           ...         ...              ...      ...     ...   \n",
       "505  6.521054e+08  4.871054e+08        2014        Animation    102.0     7.8   \n",
       "506  6.751200e+08  5.101200e+08        2014  Science Fiction    169.0     8.6   \n",
       "507  7.147666e+08  5.447666e+08        2014           Action    136.0     7.7   \n",
       "508  7.106446e+08  5.406446e+08        2014  Science Fiction    130.0     7.6   \n",
       "509  7.733286e+08  6.033286e+08        2014           Action    121.0     8.0   \n",
       "\n",
       "     Rating Count  \n",
       "0         73638.0  \n",
       "1         91075.0  \n",
       "2         91415.0  \n",
       "3         91415.0  \n",
       "4        101702.0  \n",
       "..            ...  \n",
       "505      380953.0  \n",
       "506     1343549.0  \n",
       "507      685903.0  \n",
       "508      395425.0  \n",
       "509      978222.0  \n",
       "\n",
       "[496 rows x 11 columns]"
      ]
     },
     "execution_count": 6,
     "metadata": {},
     "output_type": "execute_result"
    }
   ],
   "source": [
    "#Initialize new cleaned_df from our df and print it\n",
    "cleaned_df = df\n",
    "print(\"CLEANED UP DATAFRAME\")\n",
    "cleaned_df"
   ]
  },
  {
   "cell_type": "markdown",
   "metadata": {},
   "source": [
    "## EXPLORATORY ANALYSIS & DATA VISUALIZATION"
   ]
  },
  {
   "cell_type": "markdown",
   "metadata": {},
   "source": [
    "Now that our data is both tidy and clean, it is time to start visualizing and further analysing our data to find trends and relationships. Throughout this section of the tutorial we will be utilizing matplotlib’s pyplot library in order to plot some of the data. We will use this to get a better picture of how a movie’s rating relates to other attributes provided by our dataset, and to start formulating conclusions. "
   ]
  },
  {
   "cell_type": "markdown",
   "metadata": {},
   "source": [
    "#### FIRST WE ARE GOING TO PLOT BUDGET VS. RATING, GROSS VS. RATING, AND PROFIT VS. RATING"
   ]
  },
  {
   "cell_type": "code",
   "execution_count": 7,
   "metadata": {},
   "outputs": [
    {
     "data": {
      "image/png": "[encoded data removed]",
      "text/plain": [
       "<Figure size 288x288 with 1 Axes>"
      ]
     },
     "metadata": {
      "needs_background": "light"
     },
     "output_type": "display_data"
    },
    {
     "data": {
      "image/png": "[encoded data removed]",
      "text/plain": [
       "<Figure size 288x288 with 1 Axes>"
      ]
     },
     "metadata": {
      "needs_background": "light"
     },
     "output_type": "display_data"
    },
    {
     "data": {
      "image/png": "[encoded data removed]",
      "text/plain": [
       "<Figure size 288x288 with 1 Axes>"
      ]
     },
     "metadata": {
      "needs_background": "light"
     },
     "output_type": "display_data"
    }
   ],
   "source": [
    "import matplotlib.pyplot as plt\n",
    "import numpy as np\n",
    "\n",
    "#FOR BUDGET VS. RATING\n",
    "#get values of Budget and Rating\n",
    "xvalue = cleaned_df['Budget'].values\n",
    "yvalue = cleaned_df['Rating'].values\n",
    "\n",
    "#plot Budget vs. Rating with a line of best fit using numpy\n",
    "plt.figure(figsize=(4,4))\n",
    "plt.plot(xvalue, yvalue, 'o')\n",
    "m, b = np.polyfit(xvalue, yvalue, 1)\n",
    "plt.plot(xvalue, m*xvalue + b)\n",
    "plt.xlabel(\"Budget of Movie\")\n",
    "plt.ylabel(\"Rating of Movie\")\n",
    "plt.title(\"Budget of Movie vs. Rating of Movie\")\n",
    "plt.show()\n",
    "###############################################################\n",
    "\n",
    "#FOR GROSS VS. RATING\n",
    "#get values of Gross and Rating\n",
    "xvalue = cleaned_df['Gross'].values\n",
    "yvalue = cleaned_df['Rating'].values\n",
    "\n",
    "#plot Gross vs. Rating with a line of best fit using numpy\n",
    "plt.figure(figsize=(4,4))\n",
    "plt.plot(xvalue, yvalue, 'o')\n",
    "m, b = np.polyfit(xvalue, yvalue, 1)\n",
    "plt.plot(xvalue, m*xvalue + b)\n",
    "plt.xlabel(\"Gross of Movie\")\n",
    "plt.ylabel(\"Rating of Movie\")\n",
    "plt.title(\"Gross of Movie vs. Rating of Movie\")\n",
    "plt.show()\n",
    "###############################################################\n",
    "\n",
    "#FOR PROFIT VS. RATING\n",
    "#get values of Profit and Rating\n",
    "xvalue = cleaned_df['Profit'].values\n",
    "yvalue = cleaned_df['Rating'].values\n",
    "\n",
    "#plot Profit vs. Rating with a line of best fit using numpy\n",
    "plt.figure(figsize=(4,4))\n",
    "plt.plot(xvalue, yvalue, 'o')\n",
    "m, b = np.polyfit(xvalue, yvalue, 1)\n",
    "plt.plot(xvalue, m*xvalue + b)\n",
    "plt.xlabel(\"Profit of Movie\")\n",
    "plt.ylabel(\"Rating of Movie\")\n",
    "plt.title(\"Profit of Movie vs. Rating of Movie\")\n",
    "plt.show()"
   ]
  },
  {
   "cell_type": "markdown",
   "metadata": {},
   "source": [
    "From these graphs above we are able to recognize some relationships. From the first plot we are able to see that the budget for a movie does not affect the rating the movie receives. However, from the other two plots, we can clearly tell that the higher the gross revenue and profit a movie makes, the higher the movie rating is."
   ]
  },
  {
   "cell_type": "markdown",
   "metadata": {},
   "source": [
    "#### NOW WE ARE GOING TO PLOT MOVIE RUNTIME VS. MOVIE RATING"
   ]
  },
  {
   "cell_type": "code",
   "execution_count": 8,
   "metadata": {},
   "outputs": [
    {
     "data": {
      "image/png": "[encoded data removed]",
      "text/plain": [
       "<Figure size 288x288 with 1 Axes>"
      ]
     },
     "metadata": {
      "needs_background": "light"
     },
     "output_type": "display_data"
    }
   ],
   "source": [
    "#FOR RUNTIME VS. RATING\n",
    "#get values of Runtime and Rating\n",
    "xvalue = cleaned_df['Runtime'].values\n",
    "yvalue = cleaned_df['Rating'].values\n",
    "\n",
    "#plot Runtime vs. Rating with a line of best fit using numpy\n",
    "plt.figure(figsize=(4,4))\n",
    "plt.plot(xvalue, yvalue, 'o')\n",
    "m, b = np.polyfit(xvalue, yvalue, 1)\n",
    "plt.plot(xvalue, m*xvalue + b)\n",
    "plt.xlabel(\"Runtime of Movie\")\n",
    "plt.ylabel(\"Rating of Movie\")\n",
    "plt.title(\"Runtime of Movie vs. Rating of Movie\")\n",
    "plt.show()"
   ]
  },
  {
   "cell_type": "markdown",
   "metadata": {},
   "source": [
    "From this plot we are able to generalize a relationship between movie runtime and movie rating. The plot clearly shows a linear relationship between the two meaning the longer the movie runtime, the higher the rating a movie will receive."
   ]
  },
  {
   "cell_type": "markdown",
   "metadata": {},
   "source": [
    "#### NOW WE ARE GOING TO PLOT RATING COUNT VS. RATING"
   ]
  },
  {
   "cell_type": "code",
   "execution_count": 9,
   "metadata": {},
   "outputs": [
    {
     "data": {
      "image/png": "[encoded data removed]",
      "text/plain": [
       "<Figure size 288x288 with 1 Axes>"
      ]
     },
     "metadata": {
      "needs_background": "light"
     },
     "output_type": "display_data"
    }
   ],
   "source": [
    "#FOR RATING COUNT VS. RATING\n",
    "#get values of Rating Count and Rating\n",
    "xvalue = cleaned_df['Rating Count'].values\n",
    "yvalue = cleaned_df['Rating'].values\n",
    "\n",
    "#plot Rating Count vs. Rating with a line of best fit using numpy\n",
    "plt.figure(figsize=(4,4))\n",
    "plt.plot(xvalue, yvalue, 'o')\n",
    "m, b = np.polyfit(xvalue, yvalue, 1)\n",
    "plt.plot(xvalue, m*xvalue + b)\n",
    "plt.xlabel(\"Rating Count of Movie\")\n",
    "plt.ylabel(\"Rating of Movie\")\n",
    "plt.title(\"Rating Count of Movie vs. Rating of Movie\")\n",
    "plt.show()"
   ]
  },
  {
   "cell_type": "markdown",
   "metadata": {},
   "source": [
    "From this plot we are able to see a clear relationship between Rating Count and Rating. As we can see there is a linear relationship between the two which means the higher the Rating Count, the higher the Rating of a movie."
   ]
  },
  {
   "cell_type": "markdown",
   "metadata": {},
   "source": [
    "#### NOW WE ARE GOING TO PLOT MOVIE GENRE VS. AVERAGE RATING FOR EACH GENRE"
   ]
  },
  {
   "cell_type": "code",
   "execution_count": 10,
   "metadata": {},
   "outputs": [
    {
     "data": {
      "image/png": "[encoded data removed]",
      "text/plain": [
       "<Figure size 288x288 with 1 Axes>"
      ]
     },
     "metadata": {
      "needs_background": "light"
     },
     "output_type": "display_data"
    }
   ],
   "source": [
    "#FOR MOVIE GENRE VS. AVERAGE RATING FOR EACH GENRE\n",
    "\n",
    "#group the data based on different genres\n",
    "genre_groups = cleaned_df.groupby(['Genre'])\n",
    "genres = {}\n",
    "genre_means = []\n",
    "#loop through each genre and get the average rating of that genre\n",
    "#and store the genre : rating key/pair values\n",
    "for g in genre_groups.groups: \n",
    "    genres[g] = genre_groups.get_group(g)['Rating'].mean()\n",
    "    genre_means.append(genre_groups.get_group(g)['Rating'].mean())\n",
    "\n",
    "#sort the genre rating means\n",
    "genre_means.sort()\n",
    "\n",
    "#sort the dictionary keys from lowest to highest ratings\n",
    "sorted_keys = sorted(genres, key=genres.get)\n",
    "\n",
    "#plot the data and add code to make plot look good\n",
    "fig = plt.figure(figsize=(4,4))\n",
    "ax = fig.add_axes([0,0,1,1])\n",
    "ax.bar(sorted_keys, genre_means, width = .5)\n",
    "l = [i for i in np.arange(0,10.5,0.5)]\n",
    "ax.set_yticks(l)\n",
    "ax.set_xticklabels(rotation = (90), fontsize = 15, va='center_baseline', ha='center', labels= sorted_keys)\n",
    "plt.ylabel(\"Average Rating\")\n",
    "plt.title(\"Average Ratings for Each Movie Genre\")\n",
    "plt.show()"
   ]
  },
  {
   "cell_type": "markdown",
   "metadata": {},
   "source": [
    "From this plot we are able to tell which genres of movies bring in the highest/lowest ratings. We can clearly tell that Romance and Family have the lowest average ratings. Genres such as History, Fantasy, War, and Western have the highest average ratings."
   ]
  },
  {
   "cell_type": "markdown",
   "metadata": {},
   "source": [
    "#### MORE ON GENRES: WE ARE GOING TO PLOT MEAN PROFIT FOR EACH GENRE"
   ]
  },
  {
   "cell_type": "code",
   "execution_count": 11,
   "metadata": {},
   "outputs": [
    {
     "data": {
      "image/png": "[encoded data removed]",
      "text/plain": [
       "<Figure size 576x576 with 1 Axes>"
      ]
     },
     "metadata": {},
     "output_type": "display_data"
    }
   ],
   "source": [
    "#FOR PIE CHART OF MEAN PROFIT FOR EACH GENRE\n",
    "\n",
    "#Group data by each genre and get the mean profit for each genre\n",
    "genre_groups2 = cleaned_df.groupby(['Genre'])\n",
    "genres2 = []\n",
    "genre_means2 = []\n",
    "for g in genre_groups2.groups:\n",
    "    genres2.append(g)\n",
    "    genre_means2.append(genre_groups2.get_group(g)['Profit'].mean())\n",
    " \n",
    "my_labels = 'Action', 'Adventure', 'Animation', 'Comedy', 'Crime', 'Drama', 'Family',\\\n",
    "                    'Fantasy', 'History', 'Horror', 'Mystery', 'Romance', 'Science Fiction',\\\n",
    "                    'Thriller', 'War', 'Western'\n",
    "#plot the pie chart\n",
    "plt.figure(figsize=(8,8))\n",
    "plt.pie(genre_means2,labels=my_labels,autopct='%1.1f%%')\n",
    "plt.title('Mean Profit for Each Given Genre')\n",
    "plt.show()"
   ]
  },
  {
   "cell_type": "markdown",
   "metadata": {},
   "source": [
    "For this part of the “Data Visualization” section our group looked at the mean profit for each genre. We used a pie chart to get a better idea of which specific genres are typically the most successful in terms of profit. As we can see, the spread is pretty even however we can still pick out the genres with the highest/lowest average profit. Fantasy, Adventure, and Animation are the genres with the highest average profit. Crime, Horror, Drama, and Comedy are the genres with the lowest average profit. From this pie chart and the plot above this (Movie Genre vs. Average Rating for Each Genre) we are able to conclude that Fantasy brings in great profits and great ratings. "
   ]
  },
  {
   "cell_type": "markdown",
   "metadata": {},
   "source": [
    "#### NOW WE ARE GOING TO PLOT MPAA RATINGS VS. MOVIE RATINGS"
   ]
  },
  {
   "cell_type": "code",
   "execution_count": 12,
   "metadata": {},
   "outputs": [
    {
     "data": {
      "image/png": "[encoded data removed]",
      "text/plain": [
       "<Figure size 432x288 with 1 Axes>"
      ]
     },
     "metadata": {
      "needs_background": "light"
     },
     "output_type": "display_data"
    }
   ],
   "source": [
    "#FOR MPAA RATINGS VS. MOVIE RATINGS\n",
    "\n",
    "#group data by types of MPAA Ratings and get the mean rating for each\n",
    "#MPAA Rating type\n",
    "rating_groups = cleaned_df.groupby(['MPAA Rating'])\n",
    "m_ratings = []\n",
    "m_rating_means = []\n",
    "for g in rating_groups.groups: \n",
    "    m_ratings.append(g)\n",
    "    m_rating_means.append(rating_groups.get_group(g)['Rating'].mean())\n",
    "\n",
    "#plot the bar graph and add code to make plot look good\n",
    "fig = plt.figure()\n",
    "ax = fig.add_axes([0,0,1,1])\n",
    "ax.bar(m_ratings, m_rating_means, width = .5, color = 'purple')\n",
    "l = [i for i in np.arange(0,10.5,0.5)]\n",
    "ax.set_yticks(l)\n",
    "ax.set_xticklabels(rotation = (90), fontsize = 15, va='center_baseline', ha='center', labels= m_ratings)\n",
    "plt.ylabel(\"Average Ratings\")\n",
    "plt.title(\"Average Ratings for Each Type of MPAA Ratings\")\n",
    "plt.show()"
   ]
  },
  {
   "cell_type": "markdown",
   "metadata": {},
   "source": [
    "Based on this bar graph of Average Ratings for Each Type of MPAA Ratings we are able to visualize which MPAA Ratings have the best movie ratings. As we can clearly see from the graph, the MPAA Rating of a movie does not affect the ratings of the movies. "
   ]
  },
  {
   "cell_type": "markdown",
   "metadata": {},
   "source": [
    "#### CONCLUSION OF PLOT RELATIONSHIPS AND ATTRIBUTES"
   ]
  },
  {
   "cell_type": "markdown",
   "metadata": {},
   "source": [
    "After analyzing and evaluating our plots we were able to identify many key relationships within the data. Here is a list of relationships we were able to acquire:\n",
    " - The Budget of a movie does not affect the Rating of a movie\n",
    " - The Gross Revenue of a movie has a linear relationship with the Rating of a movie\n",
    " - The Profit of a movie has a linear relationship with the Rating of a movie\n",
    " - The Runtime of a movie has a linear relationship with the Rating of a movie\n",
    " - The Rating Count of a movie has a linear relationship with the Rating of a movie\n",
    " - The Average Ratings for Genre Types shows that certain genres average higher ratings:\n",
    "     - History\n",
    "     - Fantasy\n",
    "     - Western\n",
    "     - War\n",
    " - The Average Ratings for Genre Types shows that certain genres average lower ratings:\n",
    "     - Family\n",
    "     - Romance\n",
    "     - Comedy\n",
    "     - Horror\n",
    " - The Mean Profit for Genre Types shows that certain genres average higher profits:\n",
    "     - Fantasy\n",
    "     - Adventure\n",
    "     - Animation\n",
    " - The Mean Profit for Genre Types shows that certain genres average lower profits:\n",
    "     - Crime\n",
    "     - Horror\n",
    "     - Drama\n",
    "     - Comedy\n",
    " - The MPAA Ratings of a movie does not affect the Rating of a movie\n",
    "     "
   ]
  },
  {
   "cell_type": "markdown",
   "metadata": {},
   "source": [
    "## MODEL CREATION AND ANALYSIS"
   ]
  },
  {
   "cell_type": "markdown",
   "metadata": {},
   "source": [
    "Now that we have all our data together and we have identified the trends/relationships within our dataset, we can start creating our models. Our goal of the models is to be able to predict the rating of a movie based on attributes of a movie. "
   ]
  },
  {
   "cell_type": "markdown",
   "metadata": {},
   "source": [
    "#### THE MODELS WE WILL BE USING "
   ]
  },
  {
   "cell_type": "markdown",
   "metadata": {},
   "source": [
    "We are going to be using three types of classification algorithms: [Logistic Regression](https://scikit-learn.org/stable/modules/generated/sklearn.linear_model.LogisticRegression.html), [Decision Tree](https://scikit-learn.org/stable/modules/tree.html), and [Linear Discriminant Analysis](https://scikit-learn.org/stable/modules/generated/sklearn.discriminant_analysis.LinearDiscriminantAnalysis.html).\n",
    "\n",
    "Click on each any of the three model links above to learn a little bit about what they are."
   ]
  },
  {
   "cell_type": "markdown",
   "metadata": {},
   "source": [
    "#### SETTING UP OUR PREDICTORS & TARGET"
   ]
  },
  {
   "cell_type": "markdown",
   "metadata": {},
   "source": [
    "Our goal is to be able to accurately predict the rating of a movie based on the movies attributes. We plotted and identified relationships between certain attributes and the ratings of movies. We are going to use the attributes that had a distiguishable relationship when compared to Rating. These predictors would be Gross, Profit, Genre, Runtime, and Rating Count. With these atrributes of a movie we are going to predict the rating of a movie. Now to make our models be able to predict accurately, we are going to turn the Ratings into two parts so that we are able to use binary classifying. To do this, we are going to seperate the ratings into movies with rating 6.0 and lower, and, on the contrary, movies with rating 7.0 or higher. To do this we are going to round the current ratings of the movies to the nearest whole integer, and then seperate into two groups of ratings. In the code below, we show exactly how we set up our predictors and our targets. "
   ]
  },
  {
   "cell_type": "code",
   "execution_count": 13,
   "metadata": {},
   "outputs": [],
   "source": [
    "import sklearn\n",
    "from sklearn.model_selection import train_test_split\n",
    "\n",
    "target = []\n",
    "genre = []\n",
    "\n",
    "#round the rating column to nearest whole integer\n",
    "cleaned_df['Rating'] = cleaned_df['Rating'].round()\n",
    "\n",
    "#loop through the Dataframe\n",
    "for row in cleaned_df.itertuples():\n",
    "    \n",
    "    #get current row rating and genre\n",
    "    rate = row.Rating\n",
    "    g = row.Genre\n",
    "    \n",
    "    #if the current rating is 6 or lower than associate\n",
    "    #that movie with target group 1.0\n",
    "    if rate <= 6.0:\n",
    "        target.append(1.0)\n",
    "        \n",
    "    #if the current rating is 7 or higher than associate\n",
    "    #that movie with target group 2.0\n",
    "    elif rate > 6.0:\n",
    "        target.append(2.0)\n",
    "        \n",
    "    #For each genre type, we are going to convert them into\n",
    "    #groups similar to the rating groups\n",
    "    #For example Action is group 1.0\n",
    "    if g == 'Action':\n",
    "        genre.append(1.0)\n",
    "    if g == 'Adventure':\n",
    "        genre.append(2.0)\n",
    "    if g == 'Animation':\n",
    "        genre.append(3.0)\n",
    "    if g == 'Comedy':\n",
    "        genre.append(4.0)\n",
    "    if g == 'Crime':\n",
    "        genre.append(5.0)\n",
    "    if g == 'Drama':\n",
    "        genre.append(6.0)\n",
    "    if g == 'Family':\n",
    "        genre.append(7.0)\n",
    "    if g == 'Fantasy':\n",
    "        genre.append(8.0)\n",
    "    if g == 'History':\n",
    "        genre.append(9.0)\n",
    "    if g == 'Horror':\n",
    "        genre.append(10.0)\n",
    "    if g == 'Mystery':\n",
    "        genre.append(11.0)\n",
    "    if g == 'Romance':\n",
    "        genre.append(12.0)\n",
    "    if g == 'Science Fiction':\n",
    "        genre.append(13.0)\n",
    "    if g == 'Thriller':\n",
    "        genre.append(14.0)\n",
    "    if g == 'War':\n",
    "        genre.append(15.0)\n",
    "    if g == 'Western':\n",
    "        genre.append(16.0)\n",
    "        \n",
    "#Now we are going to create new columns for Genre and Rating\n",
    "#This way we can use this columns to help predict our targets\n",
    "cleaned_df['GenreScore'] = genre\n",
    "cleaned_df['Target'] = target\n",
    "\n",
    "#Our attributes that we are going to be using to predict\n",
    "movie_attr = [\"Gross\", \"Profit\", \"Runtime\", \"GenreScore\", \"Rating Count\"]\n",
    "\n",
    "#split the data into training and testing data\n",
    "X_train, X_test, y_train, y_test = train_test_split(cleaned_df[movie_attr], cleaned_df['Target'],\\\n",
    "                                                    test_size=0.4, random_state=42)\n",
    "\n",
    "#The training data will be used with our classifier algorithms to \n",
    "#predict our targets based on our testing data"
   ]
  },
  {
   "cell_type": "markdown",
   "metadata": {},
   "source": [
    "#### LOGISTIC REGRESSION"
   ]
  },
  {
   "cell_type": "markdown",
   "metadata": {},
   "source": [
    "Logistic Regression is a classification algorithm that predicts the probability of occurrence of an event by fitting data to a logit function. In our case it will be predicting either group 1.0 which is movie has rating 6.0 or less, or group 2.0 which is movie has rating 7.0 or higher."
   ]
  },
  {
   "cell_type": "code",
   "execution_count": 14,
   "metadata": {},
   "outputs": [
    {
     "name": "stdout",
     "output_type": "stream",
     "text": [
      "Logistic Regression Accuracy:  0.7738693467336684\n"
     ]
    }
   ],
   "source": [
    "from sklearn.linear_model import LogisticRegression\n",
    "\n",
    "#Use Logistic Regression to predict our target rating groups\n",
    "log_reg = LogisticRegression()\n",
    "log_reg.fit(X_train, y_train)\n",
    "\n",
    "#print the accuracy of correct predictions\n",
    "print(\"Logistic Regression Accuracy: \", log_reg.score(X_test, y_test))"
   ]
  },
  {
   "cell_type": "markdown",
   "metadata": {},
   "source": [
    "#### DECISION TREE"
   ]
  },
  {
   "cell_type": "markdown",
   "metadata": {},
   "source": [
    "The goal of using a Decision Tree is to create a training model that can use to predict the class or value of the target variable by learning simple decision rules inferred from prior data(training data). The class it will be predicting is either group 1.0 which is movie has rating 6.0 or less, or group 2.0 which is movie has rating 7.0 or higher."
   ]
  },
  {
   "cell_type": "code",
   "execution_count": 15,
   "metadata": {},
   "outputs": [
    {
     "name": "stdout",
     "output_type": "stream",
     "text": [
      "Decision Tree Accuracy:  0.6381909547738693\n"
     ]
    }
   ],
   "source": [
    "from sklearn import tree\n",
    "\n",
    "#Use Decision Tree to predict our target rating groups\n",
    "tree = tree.DecisionTreeClassifier()\n",
    "tree.fit(X_train, y_train)\n",
    "\n",
    "#print the accuracy of correct predictions\n",
    "print(\"Decision Tree Accuracy: \", tree.score(X_test, y_test))"
   ]
  },
  {
   "cell_type": "markdown",
   "metadata": {},
   "source": [
    "#### LINEAR DISCRIMINANT ANALYSIS"
   ]
  },
  {
   "cell_type": "markdown",
   "metadata": {},
   "source": [
    "A method used in statistics and other fields, to find a linear combination of features that characterizes or separates two or more classes of objects or events. The resulting combination may be used as a linear classifier, or, more commonly, for dimensionality reduction before later classification. The class it will be predicting is either group 1.0 which is movie has rating 6.0 or less, or group 2.0 which is movie has rating 7.0 or higher."
   ]
  },
  {
   "cell_type": "code",
   "execution_count": 16,
   "metadata": {},
   "outputs": [
    {
     "name": "stdout",
     "output_type": "stream",
     "text": [
      "Linear Discriminant Analysis:  0.7185929648241206\n"
     ]
    }
   ],
   "source": [
    "from sklearn import discriminant_analysis\n",
    "\n",
    "#Use Linear Discriminant Analysis to predict our target rating groups\n",
    "lda = discriminant_analysis.LinearDiscriminantAnalysis()\n",
    "lda.fit(X_train, y_train)\n",
    "\n",
    "#print the accuracy of correct predictions\n",
    "print(\"Linear Discriminant Analysis: \", lda.score(X_test, y_test))"
   ]
  },
  {
   "cell_type": "markdown",
   "metadata": {},
   "source": [
    "## RESULTS"
   ]
  },
  {
   "cell_type": "markdown",
   "metadata": {},
   "source": [
    "After testing various important attributes from the dataset of movies, we found that the Logistic Regression gave us the highest percentage of accuracy at .77.  This model allows us to pretty accurately predict the rating of a given movie, either higher or lower than a 6.0 rating, based on profit, rating count, gross, runtime, and genre score."
   ]
  },
  {
   "cell_type": "markdown",
   "metadata": {},
   "source": [
    "## CONCLUSION"
   ]
  },
  {
   "cell_type": "markdown",
   "metadata": {},
   "source": [
    "After collecting the data and cleaning it to fit how we wanted, we were able to visualize it and begin to figure out what the most significant attributes of a movie were in terms of determining rating. From here we used our specific data attributes to build a logistic regression, decision tree, and linear discriminant model in order to predict the rating group a movie falls into. The logistic regression model gave us an accuracy of .77, which is pretty good when considering how many factors play into determining a movie's final rating.\n",
    "\n",
    "If directors and people behind the scenes of the movie were able to better predict how movie ratings would be based on just a few factors in the grand scheme of things, not only do movies have the potential of being a lot better, but there is also the opportunity to grow the billion dollar industry of movies into something even greater.\n",
    "\n",
    "We hope this tutorial got you interested in investigating your own interests in data science like we did with movies.\n"
   ]
  }
 ],
 "metadata": {
  "kernelspec": {
   "display_name": "Python 3",
   "language": "python",
   "name": "python3"
  },
  "language_info": {
   "codemirror_mode": {
    "name": "ipython",
    "version": 3
   },
   "file_extension": ".py",
   "mimetype": "text/x-python",
   "name": "python",
   "nbconvert_exporter": "python",
   "pygments_lexer": "ipython3",
   "version": "3.8.5"
  }
 },
 "nbformat": 4,
 "nbformat_minor": 4
}
